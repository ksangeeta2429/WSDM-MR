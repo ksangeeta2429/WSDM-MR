{
 "cells": [
  {
   "cell_type": "code",
   "execution_count": 3,
   "metadata": {},
   "outputs": [],
   "source": [
    "import gc\n",
    "import numpy as np\n",
    "import math\n",
    "import pandas as pd\n",
    "\n",
    "from sklearn.model_selection import train_test_split\n",
    "from sklearn.preprocessing import LabelEncoder\n",
    "from tqdm import tqdm\n",
    "\n",
    "from keras.utils import np_utils\n",
    "from keras.models import Sequential\n",
    "from keras.layers import Dense\n",
    "from keras.layers import Dropout"
   ]
  },
  {
   "cell_type": "code",
   "execution_count": null,
   "metadata": {
    "collapsed": true
   },
   "outputs": [],
   "source": [
    "song_cols = ['song_id', 'song_length', 'language']\n",
    "songs = pd.read_csv('../Data/songs.csv', usecols = song_cols)\n",
    "\n",
    "members = pd.read_csv('../Data/members.csv')\n",
    "members = members.drop(['bd', 'gender','registration_init_time','expiration_date'], axis=1)\n",
    "\n",
    "joined = pd.read_csv('../New_Data/joined.csv')\n",
    "duplicated_idx = joined.duplicated(subset='song_id', keep='first')\n",
    "joined = joined[~duplicated_idx]"
   ]
  },
  {
   "cell_type": "code",
   "execution_count": null,
   "metadata": {
    "collapsed": true
   },
   "outputs": [],
   "source": [
    "train = pd.read_csv('../Data/train.csv')\n",
    "test = pd.read_csv('../Data/test.csv')"
   ]
  },
  {
   "cell_type": "code",
   "execution_count": null,
   "metadata": {
    "collapsed": true
   },
   "outputs": [],
   "source": [
    "songs_new = songs.merge(joined, on='song_id', how='left')"
   ]
  },
  {
   "cell_type": "code",
   "execution_count": null,
   "metadata": {
    "collapsed": true
   },
   "outputs": [],
   "source": [
    "train = train.merge(songs_new, on='song_id', how='left')\n",
    "test = test.merge(songs_new, on='song_id', how='left')\n",
    "\n",
    "#members['registration_year'] = members['registration_init_time'].apply(lambda x: int(str(x)[0:4]))\n",
    "#members['registration_month'] = members['registration_init_time'].apply(lambda x: int(str(x)[4:6]))\n",
    "#members['registration_date'] = members['registration_init_time'].apply(lambda x: int(str(x)[6:8]))\n",
    "\n",
    "#members['expiration_year'] = members['expiration_date'].apply(lambda x: int(str(x)[0:4]))\n",
    "#members['expiration_month'] = members['expiration_date'].apply(lambda x: int(str(x)[4:6]))\n",
    "#members['expiration_date'] = members['expiration_date'].apply(lambda x: int(str(x)[6:8]))\n",
    "#members = members.drop(['registration_init_time'], axis=1)\n",
    "\n",
    "train = train.merge(members, on='msno', how='left')\n",
    "test = test.merge(members, on='msno', how='left')\n",
    "\n",
    "train = train.fillna(-2)\n",
    "test = test.fillna(-2)"
   ]
  },
  {
   "cell_type": "code",
   "execution_count": null,
   "metadata": {
    "collapsed": true
   },
   "outputs": [],
   "source": [
    "cols = list(train.columns)\n",
    "cols.remove('target')\n",
    "\n",
    "for col in tqdm(cols):\n",
    "    if train[col].dtype == 'object':\n",
    "        train[col] = train[col].apply(str)\n",
    "        test[col] = test[col].apply(str)\n",
    "\n",
    "        le = LabelEncoder()\n",
    "        train_vals = list(train[col].unique())\n",
    "        test_vals = list(test[col].unique())\n",
    "        le.fit(train_vals + test_vals)\n",
    "        train[col] = le.transform(train[col])\n",
    "        test[col] = le.transform(test[col])"
   ]
  },
  {
   "cell_type": "code",
   "execution_count": null,
   "metadata": {
    "collapsed": true
   },
   "outputs": [],
   "source": [
    "X = np.array(train.drop(['target'], axis=1))\n",
    "Y = train['target'].values\n",
    "\n",
    "X_test = np.array(test.drop(['id'], axis=1))\n",
    "Y_test = test['id'].values"
   ]
  },
  {
   "cell_type": "code",
   "execution_count": null,
   "metadata": {
    "collapsed": true
   },
   "outputs": [],
   "source": [
    "cols_name = list(train.columns)\n",
    "X_new = X\n",
    "\n",
    "max_vals = X_new.max(axis = 0).transpose()\n",
    "min_vals = X_new.min(axis = 0).transpose()\n",
    "mean_vals = np.mean(X_new, axis = 0).transpose()"
   ]
  },
  {
   "cell_type": "code",
   "execution_count": null,
   "metadata": {
    "collapsed": true
   },
   "outputs": [],
   "source": [
    "#training set\n",
    "X_new = X_new - mean_vals\n",
    "X_new = X_new / (max_vals - min_vals)\n",
    "X_new = np.around(X_new,decimals = 2)"
   ]
  },
  {
   "cell_type": "code",
   "execution_count": null,
   "metadata": {
    "collapsed": true
   },
   "outputs": [],
   "source": [
    "#testing set\n",
    "X_new_test = X_test - mean_vals\n",
    "X_new_test = X_new_test / (max_vals - min_vals)\n",
    "X_new_test = np.around(X_new_test,decimals = 2)"
   ]
  },
  {
   "cell_type": "code",
   "execution_count": null,
   "metadata": {
    "collapsed": true
   },
   "outputs": [],
   "source": [
    "del X; \n",
    "del members, songs, joined;\n",
    "del train, test;\n",
    "gc.collect();"
   ]
  },
  {
   "cell_type": "code",
   "execution_count": 1,
   "metadata": {},
   "outputs": [
    {
     "name": "stderr",
     "output_type": "stream",
     "text": [
      "Using TensorFlow backend.\n"
     ]
    }
   ],
   "source": [
    "from IPython.display import SVG\n",
    "from keras.utils.vis_utils import model_to_dot\n",
    "input_shape = 50 #X_new.shape[1]"
   ]
  },
  {
   "cell_type": "code",
   "execution_count": 4,
   "metadata": {},
   "outputs": [
    {
     "data": {
      "image/svg+xml": [
       "<svg height=\"490pt\" viewBox=\"0.00 0.00 170.00 490.00\" width=\"170pt\" xmlns=\"http://www.w3.org/2000/svg\" xmlns:xlink=\"http://www.w3.org/1999/xlink\">\n",
       "<g class=\"graph\" id=\"graph0\" transform=\"scale(1 1) rotate(0) translate(4 486)\">\n",
       "<title>G</title>\n",
       "<polygon fill=\"white\" points=\"-4,5 -4,-486 167,-486 167,5 -4,5\" stroke=\"white\"/>\n",
       "<!-- 47182320969744 -->\n",
       "<g class=\"node\" id=\"node1\"><title>47182320969744</title>\n",
       "<polygon fill=\"none\" points=\"-0.5,-445 -0.5,-481 162.5,-481 162.5,-445 -0.5,-445\" stroke=\"black\"/>\n",
       "<text font-family=\"Times,serif\" font-size=\"14.00\" text-anchor=\"middle\" x=\"81\" y=\"-459.3\">dense_1_input: InputLayer</text>\n",
       "</g>\n",
       "<!-- 47182320968144 -->\n",
       "<g class=\"node\" id=\"node2\"><title>47182320968144</title>\n",
       "<polygon fill=\"none\" points=\"30,-371 30,-407 132,-407 132,-371 30,-371\" stroke=\"black\"/>\n",
       "<text font-family=\"Times,serif\" font-size=\"14.00\" text-anchor=\"middle\" x=\"81\" y=\"-385.3\">dense_1: Dense</text>\n",
       "</g>\n",
       "<!-- 47182320969744&#45;&gt;47182320968144 -->\n",
       "<g class=\"edge\" id=\"edge1\"><title>47182320969744-&gt;47182320968144</title>\n",
       "<path d=\"M81,-444.937C81,-436.807 81,-426.876 81,-417.705\" fill=\"none\" stroke=\"black\"/>\n",
       "<polygon fill=\"black\" points=\"84.5001,-417.441 81,-407.441 77.5001,-417.441 84.5001,-417.441\" stroke=\"black\"/>\n",
       "</g>\n",
       "<!-- 47182320968528 -->\n",
       "<g class=\"node\" id=\"node3\"><title>47182320968528</title>\n",
       "<polygon fill=\"none\" points=\"30,-297 30,-333 132,-333 132,-297 30,-297\" stroke=\"black\"/>\n",
       "<text font-family=\"Times,serif\" font-size=\"14.00\" text-anchor=\"middle\" x=\"81\" y=\"-311.3\">dense_2: Dense</text>\n",
       "</g>\n",
       "<!-- 47182320968144&#45;&gt;47182320968528 -->\n",
       "<g class=\"edge\" id=\"edge2\"><title>47182320968144-&gt;47182320968528</title>\n",
       "<path d=\"M81,-370.937C81,-362.807 81,-352.876 81,-343.705\" fill=\"none\" stroke=\"black\"/>\n",
       "<polygon fill=\"black\" points=\"84.5001,-343.441 81,-333.441 77.5001,-343.441 84.5001,-343.441\" stroke=\"black\"/>\n",
       "</g>\n",
       "<!-- 47182320968784 -->\n",
       "<g class=\"node\" id=\"node4\"><title>47182320968784</title>\n",
       "<polygon fill=\"none\" points=\"18.5,-223 18.5,-259 143.5,-259 143.5,-223 18.5,-223\" stroke=\"black\"/>\n",
       "<text font-family=\"Times,serif\" font-size=\"14.00\" text-anchor=\"middle\" x=\"81\" y=\"-237.3\">dropout_1: Dropout</text>\n",
       "</g>\n",
       "<!-- 47182320968528&#45;&gt;47182320968784 -->\n",
       "<g class=\"edge\" id=\"edge3\"><title>47182320968528-&gt;47182320968784</title>\n",
       "<path d=\"M81,-296.937C81,-288.807 81,-278.876 81,-269.705\" fill=\"none\" stroke=\"black\"/>\n",
       "<polygon fill=\"black\" points=\"84.5001,-269.441 81,-259.441 77.5001,-269.441 84.5001,-269.441\" stroke=\"black\"/>\n",
       "</g>\n",
       "<!-- 47182320968848 -->\n",
       "<g class=\"node\" id=\"node5\"><title>47182320968848</title>\n",
       "<polygon fill=\"none\" points=\"30,-149 30,-185 132,-185 132,-149 30,-149\" stroke=\"black\"/>\n",
       "<text font-family=\"Times,serif\" font-size=\"14.00\" text-anchor=\"middle\" x=\"81\" y=\"-163.3\">dense_3: Dense</text>\n",
       "</g>\n",
       "<!-- 47182320968784&#45;&gt;47182320968848 -->\n",
       "<g class=\"edge\" id=\"edge4\"><title>47182320968784-&gt;47182320968848</title>\n",
       "<path d=\"M81,-222.937C81,-214.807 81,-204.876 81,-195.705\" fill=\"none\" stroke=\"black\"/>\n",
       "<polygon fill=\"black\" points=\"84.5001,-195.441 81,-185.441 77.5001,-195.441 84.5001,-195.441\" stroke=\"black\"/>\n",
       "</g>\n",
       "<!-- 47182320969104 -->\n",
       "<g class=\"node\" id=\"node6\"><title>47182320969104</title>\n",
       "<polygon fill=\"none\" points=\"30,-75 30,-111 132,-111 132,-75 30,-75\" stroke=\"black\"/>\n",
       "<text font-family=\"Times,serif\" font-size=\"14.00\" text-anchor=\"middle\" x=\"81\" y=\"-89.3\">dense_4: Dense</text>\n",
       "</g>\n",
       "<!-- 47182320968848&#45;&gt;47182320969104 -->\n",
       "<g class=\"edge\" id=\"edge5\"><title>47182320968848-&gt;47182320969104</title>\n",
       "<path d=\"M81,-148.937C81,-140.807 81,-130.876 81,-121.705\" fill=\"none\" stroke=\"black\"/>\n",
       "<polygon fill=\"black\" points=\"84.5001,-121.441 81,-111.441 77.5001,-121.441 84.5001,-121.441\" stroke=\"black\"/>\n",
       "</g>\n",
       "<!-- 47182320969360 -->\n",
       "<g class=\"node\" id=\"node7\"><title>47182320969360</title>\n",
       "<polygon fill=\"none\" points=\"30,-1 30,-37 132,-37 132,-1 30,-1\" stroke=\"black\"/>\n",
       "<text font-family=\"Times,serif\" font-size=\"14.00\" text-anchor=\"middle\" x=\"81\" y=\"-15.3\">dense_5: Dense</text>\n",
       "</g>\n",
       "<!-- 47182320969104&#45;&gt;47182320969360 -->\n",
       "<g class=\"edge\" id=\"edge6\"><title>47182320969104-&gt;47182320969360</title>\n",
       "<path d=\"M81,-74.937C81,-66.8072 81,-56.8761 81,-47.7047\" fill=\"none\" stroke=\"black\"/>\n",
       "<polygon fill=\"black\" points=\"84.5001,-47.4406 81,-37.4407 77.5001,-47.4407 84.5001,-47.4406\" stroke=\"black\"/>\n",
       "</g>\n",
       "</g>\n",
       "</svg>"
      ],
      "text/plain": [
       "<IPython.core.display.SVG object>"
      ]
     },
     "execution_count": 4,
     "metadata": {},
     "output_type": "execute_result"
    }
   ],
   "source": [
    "training = True\n",
    "model = Sequential([\n",
    "        Dense(units=1024, kernel_initializer='uniform', input_dim=input_shape, activation='relu'),\n",
    "        Dense(units=512, kernel_initializer='uniform', activation='relu'),\n",
    "        Dropout(0.25),\n",
    "        Dense(128, kernel_initializer='uniform', activation='relu'),\n",
    "        Dense(64, kernel_initializer='uniform', activation='relu'),\n",
    "        Dense(1, kernel_initializer='uniform', activation='sigmoid')\n",
    "    ])\n",
    "model.compile(optimizer='adam', loss='binary_crossentropy', metrics=['accuracy'])\n",
    "SVG(model_to_dot(model).create(prog='dot', format='svg'))"
   ]
  },
  {
   "cell_type": "code",
   "execution_count": null,
   "metadata": {
    "collapsed": true
   },
   "outputs": [],
   "source": [
    "if training:\n",
    "    model.fit(X_new, Y, batch_size=128, epochs=20, validation_split=0.1, validation_data=None, shuffle=True)\n",
    "    model.save('../Models/dnn_preprocessed.h5')\n",
    "else:\n",
    "    weights = '../Models/dnn_preprocessed.h5'\n",
    "    model.load_weights(weights)"
   ]
  },
  {
   "cell_type": "code",
   "execution_count": null,
   "metadata": {
    "collapsed": true
   },
   "outputs": [],
   "source": [
    "predicted = model.predict(X_new_test, batch_size=128, verbose=0)"
   ]
  },
  {
   "cell_type": "code",
   "execution_count": null,
   "metadata": {
    "collapsed": true
   },
   "outputs": [],
   "source": [
    "headers = ['id', 'target']\n",
    "new_test = pd.DataFrame(columns=headers)\n",
    "new_test['id'] = Y_test\n",
    "new_test['target'] = predicted\n",
    "\n",
    "duplicated_idx = new_test.duplicated(subset='id', keep='first')\n",
    "new_test = new_test[~duplicated_idx]\n",
    "new_test['target'] = new_test['target'].apply(lambda x: 1 if x>0.5 else 0)\n",
    "new_test.to_csv('submission_dnn.csv', index=False, header=['id', 'target'])"
   ]
  }
 ],
 "metadata": {
  "kernelspec": {
   "display_name": "Python 2",
   "language": "python",
   "name": "python2"
  },
  "language_info": {
   "codemirror_mode": {
    "name": "ipython",
    "version": 2
   },
   "file_extension": ".py",
   "mimetype": "text/x-python",
   "name": "python",
   "nbconvert_exporter": "python",
   "pygments_lexer": "ipython2",
   "version": "2.7.13"
  }
 },
 "nbformat": 4,
 "nbformat_minor": 2
}
