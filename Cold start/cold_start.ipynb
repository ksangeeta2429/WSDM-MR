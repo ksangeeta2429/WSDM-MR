{
 "cells": [
  {
   "cell_type": "code",
   "execution_count": 1,
   "metadata": {
    "collapsed": true
   },
   "outputs": [],
   "source": [
    "import pandas as pd\n",
    "import numpy as np\n",
    "from tqdm import tqdm\n",
    "from sklearn.naive_bayes import MultinomialNB\n",
    "from sklearn.preprocessing import LabelEncoder\n",
    "from sklearn.metrics import roc_auc_score\n",
    "from sklearn.model_selection import train_test_split\n",
    "import progressbar\n",
    "from sklearn.ensemble import ExtraTreesClassifier\n",
    "from sklearn.feature_selection import SelectFromModel\n",
    "from sklearn.svm import LinearSVC"
   ]
  },
  {
   "cell_type": "code",
   "execution_count": 2,
   "metadata": {
    "collapsed": true
   },
   "outputs": [],
   "source": [
    "train = pd.read_csv('../Data/train.csv')\n",
    "test = pd.read_csv('../Data/test.csv')\n",
    "songs = pd.read_csv('../Data/songs.csv', usecols = ['song_id', 'artist_name', 'language']).astype(str)"
   ]
  },
  {
   "cell_type": "code",
   "execution_count": 3,
   "metadata": {
    "collapsed": true
   },
   "outputs": [],
   "source": [
    "#positives = len(train[train.target == 1])\n",
    "#negatives = len(train[train.target == 0])"
   ]
  },
  {
   "cell_type": "code",
   "execution_count": 4,
   "metadata": {},
   "outputs": [
    {
     "name": "stderr",
     "output_type": "stream",
     "text": [
      "100%|██████████| 3/3 [00:45<00:00, 14.72s/it]\n"
     ]
    }
   ],
   "source": [
    "cols = ['source_system_tab', 'source_screen_name', 'source_type']\n",
    "\n",
    "for col in tqdm(cols):\n",
    "    if train[col].dtype == 'object':\n",
    "        train[col] = train[col].apply(str)\n",
    "        test[col] = test[col].apply(str)\n",
    "\n",
    "        le = LabelEncoder()\n",
    "        train_vals = list(train[col].unique())\n",
    "        test_vals = list(test[col].unique())\n",
    "        le.fit(train_vals + test_vals)\n",
    "        train[col] = le.transform(train[col])\n",
    "        test[col] = le.transform(test[col])"
   ]
  },
  {
   "cell_type": "code",
   "execution_count": 5,
   "metadata": {
    "collapsed": true
   },
   "outputs": [],
   "source": [
    "#Case 1: User missing in training but song is present (in training)\n",
    "msno_song = test[~test.msno.isin(train.msno) & test.song_id.isin(train.song_id)]\n",
    "msno_song = msno_song.merge(songs, on='song_id', how='left')\n",
    "\n",
    "#Case 2: song missing in training but User exists\n",
    "song_msno = test[~test.song_id.isin(train.song_id) & test.msno.isin(train.msno)]\n",
    "\n",
    "#Case 3: both user and song is new\n",
    "both_missing = test[~test.msno.isin(train.msno) & ~test.song_id.isin(train.song_id)]\n",
    "\n",
    "#print msno_song.shape (163181, 6)\n",
    "#print song_msno.shape (299288, 6)\n",
    "#print both_missing.shape (20837, 6)"
   ]
  },
  {
   "cell_type": "code",
   "execution_count": 6,
   "metadata": {
    "collapsed": true
   },
   "outputs": [],
   "source": [
    "train = train.merge(songs, on='song_id', how='left')\n",
    "test = test.merge(songs, on='song_id', how='left')"
   ]
  },
  {
   "cell_type": "code",
   "execution_count": 7,
   "metadata": {
    "collapsed": true
   },
   "outputs": [],
   "source": [
    "def binning(x):\n",
    "    if x == 0:\n",
    "        return 0\n",
    "    elif x <= 100:\n",
    "        return 1\n",
    "    elif x <= 500:\n",
    "        return 2\n",
    "    elif x <= 1000:\n",
    "        return 3\n",
    "    elif x <= 1500:\n",
    "        return 4\n",
    "    return 5"
   ]
  },
  {
   "cell_type": "code",
   "execution_count": 8,
   "metadata": {
    "collapsed": true
   },
   "outputs": [],
   "source": [
    "#Case 1 solution: Use only song statistics when user is new\n",
    "#has anyone listened to the song repeatedly\n",
    "repeated_songs_dict = train[train.target == 1].groupby(['song_id'])['target'].count().to_dict()\n",
    "def repeated_songs(x):\n",
    "    try:\n",
    "        count = repeated_songs_dict[x]\n",
    "        return count\n",
    "    except KeyError:\n",
    "        return 0\n",
    "\n",
    "#has anyone listened to the artist again?\n",
    "repeated_artists_dict = train[train.target == 1].groupby(['artist_name'])['target'].count().to_dict()\n",
    "def repeated_artists(x):\n",
    "    try:\n",
    "        count = repeated_artists_dict[x]\n",
    "        return count\n",
    "    except KeyError:\n",
    "        return 0\n",
    "    \n",
    "#how frequently have people repeatedly listened to the language\n",
    "repeated_lang_dict = train[train.target == 1].groupby(['language'])['target'].count().to_dict()\n",
    "def repeated_lang(x):\n",
    "    try:\n",
    "        count = repeated_lang_dict[x]\n",
    "        return count\n",
    "    except KeyError:\n",
    "        return 0 \n",
    "    \n",
    "# number of times an artist has been played \n",
    "_dict_count_artist_played_train = {k: v for k, v in train['artist_name'].value_counts().iteritems()}\n",
    "def count_artist_played(x):\n",
    "    try:\n",
    "        return _dict_count_artist_played_train[x]\n",
    "    except KeyError:\n",
    "        return 0\n",
    "        \n",
    "# number of times a song has been played\n",
    "_dict_count_song_played_train = {k: v for k, v in train['song_id'].value_counts().iteritems()}\n",
    "def count_song_played(x):\n",
    "    try:\n",
    "        return _dict_count_song_played_train[x]\n",
    "    except KeyError:\n",
    "        return 0"
   ]
  },
  {
   "cell_type": "code",
   "execution_count": 9,
   "metadata": {
    "collapsed": true
   },
   "outputs": [],
   "source": [
    "msno_song['repeated_song'] = msno_song['song_id'].map(str).apply(repeated_songs).astype(np.int32)\n",
    "msno_song['count_artist_played'] = msno_song['artist_name'].map(str).apply(count_artist_played).astype(np.int64)\n",
    "msno_song['count_song_played'] = msno_song['song_id'].map(str).apply(count_song_played).astype(np.int64)\n",
    "msno_song['repeated_artist'] = test['artist_name'].map(str).apply(repeated_artists).astype(np.int32)\n",
    "msno_song['repeated_lang'] = test['language'].map(str).apply(repeated_lang).astype(np.int32)"
   ]
  },
  {
   "cell_type": "code",
   "execution_count": 10,
   "metadata": {
    "collapsed": true
   },
   "outputs": [],
   "source": [
    "#Case 2: Use only User Statistics when song is new\n",
    "#how frequently has the user repeated songs?\n",
    "repeated_dict = train[train.target == 1].groupby(['msno'])['target'].count().to_dict()\n",
    "def user_repeated_songs(x):\n",
    "    try:\n",
    "        count = repeated_dict[x]\n",
    "        return count\n",
    "    except KeyError:\n",
    "        return 0"
   ]
  },
  {
   "cell_type": "code",
   "execution_count": 11,
   "metadata": {
    "collapsed": true
   },
   "outputs": [],
   "source": [
    "song_msno['user_repeated'] = song_msno['msno'].map(str).apply(user_repeated_songs).astype(np.int32)"
   ]
  },
  {
   "cell_type": "code",
   "execution_count": 12,
   "metadata": {
    "collapsed": true
   },
   "outputs": [],
   "source": [
    "# General Source statistics\n",
    "# number of times a source_system_tab has helped in song repetition\n",
    "source_system_dict = train[train.target == 1].groupby(['source_system_tab'])['target'].count().to_dict()\n",
    "def source_system_repeated(x):\n",
    "    try:\n",
    "        count = source_system_dict[x]\n",
    "        return binning(count)\n",
    "    except KeyError:\n",
    "        return 0    \n",
    "\n",
    "# number of times source_screen_name has contributed to target=1\n",
    "source_screen_dict = train[train.target == 1].groupby(['source_screen_name'])['target'].count().to_dict()\n",
    "def source_screen_repeated(x):\n",
    "    try:\n",
    "        count = source_screen_dict[x]\n",
    "        return binning(count)\n",
    "    except KeyError:\n",
    "        return 0\n",
    "\n",
    "# number of times source_type has contributed to target=1\n",
    "source_type_dict = train[train.target == 1].groupby(['source_type'])['target'].count().to_dict()\n",
    "def source_type_repeated(x):\n",
    "    try:\n",
    "        count = source_type_dict[x]\n",
    "        return binning(count)\n",
    "    except KeyError:\n",
    "        return 0"
   ]
  },
  {
   "cell_type": "code",
   "execution_count": 13,
   "metadata": {
    "collapsed": true
   },
   "outputs": [],
   "source": [
    "msno_song['s_system_repeat'] = msno_song['source_system_tab'].map(str).apply(source_system_repeated).astype(np.int32)\n",
    "song_msno['s_system_repeat'] = song_msno['source_system_tab'].map(str).apply(source_system_repeated).astype(np.int32)\n",
    "both_missing['s_system_repeat'] = both_missing['source_system_tab'].map(str).apply(source_system_repeated).astype(np.int32)\n",
    "\n",
    "msno_song['s_screen_repeat'] = msno_song['source_screen_name'].map(str).apply(source_screen_repeated).astype(np.int32)\n",
    "song_msno['s_screen_repeat'] = song_msno['source_screen_name'].map(str).apply(source_screen_repeated).astype(np.int32)\n",
    "both_missing['s_screen_repeat'] = both_missing['source_screen_name'].map(str).apply(source_screen_repeated).astype(np.int32)\n",
    "\n",
    "msno_song['s_type_repeat'] = msno_song['source_type'].map(str).apply(source_type_repeated).astype(np.int32)\n",
    "song_msno['s_type_repeat'] = song_msno['source_type'].map(str).apply(source_type_repeated).astype(np.int32)\n",
    "both_missing['s_type_repeat'] = both_missing['source_type'].map(str).apply(source_type_repeated).astype(np.int32)"
   ]
  },
  {
   "cell_type": "code",
   "execution_count": 14,
   "metadata": {
    "collapsed": true
   },
   "outputs": [],
   "source": [
    "train['s_system_repeat'] = train['source_system_tab'].map(str).apply(source_system_repeated).astype(np.int32)\n",
    "train['s_screen_repeat'] = train['source_screen_name'].map(str).apply(source_screen_repeated).astype(np.int32)\n",
    "train['s_type_repeat'] = train['source_type'].map(str).apply(source_type_repeated).astype(np.int32)"
   ]
  },
  {
   "cell_type": "code",
   "execution_count": 15,
   "metadata": {
    "collapsed": true
   },
   "outputs": [],
   "source": [
    "predicted = []\n",
    "Y_list = []\n",
    "Y_list.extend(both_missing.id)\n",
    "Y_list.extend(song_msno.id)\n",
    "Y_list.extend(msno_song.id)"
   ]
  },
  {
   "cell_type": "code",
   "execution_count": 16,
   "metadata": {},
   "outputs": [
    {
     "name": "stdout",
     "output_type": "stream",
     "text": [
      "Number of mislabeled points out of a total 1475484 points : 741590\n",
      "ROC AUC Score: 0.517279\n"
     ]
    }
   ],
   "source": [
    "X_prev = np.array(train.drop(['target', 'msno', 'song_id', 'artist_name', 'language'], axis=1), dtype=np.int32)\n",
    "lsvc = LinearSVC(C=0.01, penalty=\"l1\", dual=False).fit(X_prev, train.target)\n",
    "model = SelectFromModel(lsvc, prefit=True)\n",
    "X = model.transform(X_prev)\n",
    "\n",
    "X_train, X_val, Y_train, Y_val = train_test_split(X, train.target, test_size = 0.2, shuffle = False)\n",
    "X_test_prev = np.array(both_missing.drop(['id', 'msno', 'song_id'], axis=1), dtype=np.int32)\n",
    "X_test = model.transform(X_test_prev)\n",
    "\n",
    "#Train for Case 3: both missing\n",
    "gnb = MultinomialNB()\n",
    "y_pred = gnb.fit(X_train, Y_train).predict(X_val)\n",
    "print \"Number of mislabeled points out of a total %d points : %d\" % (len(X_val),(Y_val != y_pred).sum())\n",
    "print \"ROC AUC Score: %f\" %roc_auc_score(Y_val, y_pred)\n",
    "predicted.extend(gnb.predict_proba(X_test))"
   ]
  },
  {
   "cell_type": "code",
   "execution_count": 17,
   "metadata": {},
   "outputs": [
    {
     "name": "stdout",
     "output_type": "stream",
     "text": [
      "Number of mislabeled points out of a total 1475484 points : 637240\n",
      "ROC AUC Score: 0.542848\n"
     ]
    }
   ],
   "source": [
    "# For Case 2\n",
    "train['user_repeated'] = train['msno'].map(str).apply(user_repeated_songs).astype(np.int32)\n",
    "# Drop string attributes\n",
    "X_prev = np.array(train.drop(['target', 'msno', 'song_id', 'artist_name', 'language'], axis=1), dtype=np.int32)\n",
    "lsvc = LinearSVC(C=0.01, penalty=\"l1\", dual=False).fit(X_prev, train.target)\n",
    "model = SelectFromModel(lsvc, prefit=True)\n",
    "X = model.transform(X_prev)\n",
    "\n",
    "X_train, X_val, Y_train, Y_val = train_test_split(X, train.target, test_size = 0.2, shuffle = False)\n",
    "X_test_prev = np.array(song_msno.drop(['id', 'msno', 'song_id'], axis=1), dtype=np.int32)\n",
    "X_test = model.transform(X_test_prev)\n",
    "\n",
    "gnb = MultinomialNB()\n",
    "y_pred = gnb.fit(X_train, Y_train).predict(X_val)\n",
    "print \"Number of mislabeled points out of a total %d points : %d\" % (len(X_val),(Y_val != y_pred).sum())\n",
    "print \"ROC AUC Score: %f\" %roc_auc_score(Y_val, y_pred)\n",
    "predicted.extend(gnb.predict_proba(X_test))\n",
    "\n",
    "# Drop this attribute since not used for Case 1\n",
    "train = train.drop(['user_repeated'], axis=1)"
   ]
  },
  {
   "cell_type": "code",
   "execution_count": 18,
   "metadata": {},
   "outputs": [
    {
     "name": "stdout",
     "output_type": "stream",
     "text": [
      "Number of mislabeled points out of a total 1475484 points : 585152\n",
      "ROC AUC Score: 0.552688\n"
     ]
    }
   ],
   "source": [
    "# For Case 1\n",
    "train['repeated_song'] = train['song_id'].map(str).apply(repeated_songs).astype(np.int32)\n",
    "train['count_artist_played'] = train['artist_name'].map(str).apply(count_artist_played).astype(np.int64)\n",
    "train['count_song_played'] = train['song_id'].map(str).apply(count_song_played).astype(np.int64)\n",
    "train['repeated_artist'] = train['artist_name'].map(str).apply(repeated_artists).astype(np.int32)\n",
    "train['repeated_lang'] = train['language'].map(str).apply(repeated_lang).astype(np.int32)\n",
    "\n",
    "X_prev = np.array(train.drop(['target', 'msno', 'song_id', 'artist_name', 'language'], axis=1), dtype=np.int32)\n",
    "lsvc = LinearSVC(C=0.01, penalty=\"l1\", dual=False).fit(X_prev, train.target)\n",
    "model = SelectFromModel(lsvc, prefit=True)\n",
    "X = model.transform(X_prev)\n",
    "\n",
    "X_train, X_val, Y_train, Y_val = train_test_split(X, train.target, test_size = 0.2, shuffle = False) \n",
    "X_test_prev = np.array(msno_song.drop(['id', 'msno', 'song_id', 'artist_name', 'language'], axis=1), dtype=np.int32)\n",
    "X_test = model.transform(X_test_prev)\n",
    "\n",
    "gnb = MultinomialNB()\n",
    "y_pred = gnb.fit(X_train, Y_train).predict(X_val)\n",
    "print \"Number of mislabeled points out of a total %d points : %d\" % (len(X_val),(Y_val != y_pred).sum())\n",
    "print \"ROC AUC Score: %f\" %roc_auc_score(Y_val, y_pred)\n",
    "predicted.extend(gnb.predict_proba(X_test))"
   ]
  },
  {
   "cell_type": "code",
   "execution_count": 21,
   "metadata": {
    "collapsed": true
   },
   "outputs": [],
   "source": [
    "lst2 = []\n",
    "for x in range(len(predicted)):\n",
    "    lst2.append(predicted[x][1])"
   ]
  },
  {
   "cell_type": "code",
   "execution_count": 22,
   "metadata": {},
   "outputs": [],
   "source": [
    "headers = ['id', 'target']\n",
    "new_test = pd.DataFrame(columns=headers)\n",
    "new_test['id'] = Y_list\n",
    "new_test['target'] = lst2\n",
    "new_test.to_csv('../Test/cold_start_pred_2.csv', index=False, header=headers)"
   ]
  }
 ],
 "metadata": {
  "kernelspec": {
   "display_name": "Python 2",
   "language": "python",
   "name": "python2"
  },
  "language_info": {
   "codemirror_mode": {
    "name": "ipython",
    "version": 2
   },
   "file_extension": ".py",
   "mimetype": "text/x-python",
   "name": "python",
   "nbconvert_exporter": "python",
   "pygments_lexer": "ipython2",
   "version": "2.7.13"
  }
 },
 "nbformat": 4,
 "nbformat_minor": 2
}
