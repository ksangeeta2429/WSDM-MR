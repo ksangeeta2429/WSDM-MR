{
 "cells": [
  {
   "cell_type": "code",
   "execution_count": 1,
   "metadata": {},
   "outputs": [
    {
     "name": "stderr",
     "output_type": "stream",
     "text": [
      "Using TensorFlow backend.\n"
     ]
    }
   ],
   "source": [
    "import keras\n",
    "import pandas as pd\n",
    "import numpy as np\n",
    "from keras.layers import Dense, Activation, Embedding, Input, Concatenate, Flatten\n",
    "from keras.regularizers import l2\n",
    "from keras.callbacks import EarlyStopping, ModelCheckpoint\n",
    "from sklearn.metrics import roc_auc_score\n",
    "import pickle\n",
    "from tqdm import tqdm\n",
    "from sklearn.preprocessing import LabelEncoder"
   ]
  },
  {
   "cell_type": "code",
   "execution_count": 41,
   "metadata": {},
   "outputs": [],
   "source": [
    "train = pd.read_csv('../Data/train.csv')\n",
    "test = pd.read_csv('../Data/test.csv')\n",
    "members = pd.read_csv('../Data/members.csv',dtype={'city' : 'category',\n",
    "                                                      'bd' : np.uint8,\n",
    "                                                      'gender' : 'category',\n",
    "                                                      'registered_via' : 'category'},\n",
    "                             parse_dates=['registration_init_time','expiration_date'])\n",
    "\n",
    "members['membership_days'] = members['expiration_date'].subtract(members['registration_init_time']).dt.days.astype(int)\n",
    "members = members.drop(['bd', 'gender','registration_init_time','expiration_date'], axis=1)\n",
    "train = train.merge(members, on='msno', how='left')\n",
    "test = test.merge(members, on='msno', how='left')\n",
    "\n",
    "train['source_screen_name'].fillna('none',inplace=True)\n",
    "train['source_type'].fillna('none', inplace=True)\n",
    "test['source_screen_name'].fillna('none',inplace=True)\n",
    "test['source_type'].fillna('none',inplace=True)"
   ]
  },
  {
   "cell_type": "code",
   "execution_count": 42,
   "metadata": {},
   "outputs": [
    {
     "name": "stderr",
     "output_type": "stream",
     "text": [
      "100%|██████████| 1/1 [00:23<00:00, 23.04s/it]\n"
     ]
    }
   ],
   "source": [
    "cols = ['msno']\n",
    "\n",
    "for col in tqdm(cols):\n",
    "    if train[col].dtype == 'object':\n",
    "        train[col] = train[col].apply(str)\n",
    "        test[col] = test[col].apply(str)\n",
    "\n",
    "        le = LabelEncoder()\n",
    "        train_vals = list(train[col].unique())\n",
    "        test_vals = list(test[col].unique())\n",
    "        le.fit(train_vals + test_vals)\n",
    "        train[col] = le.transform(train[col])\n",
    "        test[col] = le.transform(test[col])"
   ]
  },
  {
   "cell_type": "code",
   "execution_count": 43,
   "metadata": {
    "collapsed": true
   },
   "outputs": [],
   "source": [
    "#Case 2: song missing in training but User exists\n",
    "song_msno = test[~test.song_id.isin(train.song_id) & test.msno.isin(train.msno)]"
   ]
  },
  {
   "cell_type": "code",
   "execution_count": 44,
   "metadata": {
    "collapsed": true
   },
   "outputs": [],
   "source": [
    "user_embedding_size = 64\n",
    "other_embedding_size = 32\n",
    "source_embedding_size = 10\n",
    "member_embedding_size = 10\n",
    "extra_dense = 128\n",
    "batch_size = 32768\n",
    "num_epochs = 100\n",
    "save_path = '../Models/only_user_var2.h5'"
   ]
  },
  {
   "cell_type": "markdown",
   "metadata": {},
   "source": [
    "Case 2: Song missing in training but user is present (in training)"
   ]
  },
  {
   "cell_type": "code",
   "execution_count": 45,
   "metadata": {
    "collapsed": true
   },
   "outputs": [],
   "source": [
    "# User Stats used in embedding\n",
    "#how frequently has the user repeated songs?\n",
    "repeated_dict = train[train.target == 1].groupby(['msno'])['target'].count().to_dict()\n",
    "def user_repeated_songs(x):\n",
    "    try:\n",
    "        return repeated_dict[x]\n",
    "    except KeyError:\n",
    "        return 0\n",
    "\n",
    "# number of times source_screen_name has contributed to target=1\n",
    "source_screen_dict = train[train.target == 1].groupby(['source_screen_name'])['target'].count().to_dict()\n",
    "def source_screen_repeated(x):\n",
    "    if x == 'none':\n",
    "        return 0\n",
    "    try:\n",
    "        return source_screen_dict[x]\n",
    "    except KeyError:\n",
    "        return 0\n",
    "\n",
    "# number of times source_type has contributed to target=1\n",
    "source_type_dict = train[train.target == 1].groupby(['source_type'])['target'].count().to_dict()\n",
    "def source_type_repeated(x):\n",
    "    if x == 'none':\n",
    "        return 0\n",
    "    try:\n",
    "        return source_type_dict[x]\n",
    "    except KeyError:\n",
    "        return 0"
   ]
  },
  {
   "cell_type": "code",
   "execution_count": 53,
   "metadata": {},
   "outputs": [
    {
     "name": "stderr",
     "output_type": "stream",
     "text": [
      "/users/PAS1315/osu9187/envs/py27/lib/python2.7/site-packages/ipykernel_launcher.py:1: SettingWithCopyWarning: \n",
      "A value is trying to be set on a copy of a slice from a DataFrame.\n",
      "Try using .loc[row_indexer,col_indexer] = value instead\n",
      "\n",
      "See the caveats in the documentation: http://pandas.pydata.org/pandas-docs/stable/indexing.html#indexing-view-versus-copy\n",
      "  \"\"\"Entry point for launching an IPython kernel.\n",
      "/users/PAS1315/osu9187/envs/py27/lib/python2.7/site-packages/ipykernel_launcher.py:2: SettingWithCopyWarning: \n",
      "A value is trying to be set on a copy of a slice from a DataFrame.\n",
      "Try using .loc[row_indexer,col_indexer] = value instead\n",
      "\n",
      "See the caveats in the documentation: http://pandas.pydata.org/pandas-docs/stable/indexing.html#indexing-view-versus-copy\n",
      "  \n",
      "/users/PAS1315/osu9187/envs/py27/lib/python2.7/site-packages/ipykernel_launcher.py:3: SettingWithCopyWarning: \n",
      "A value is trying to be set on a copy of a slice from a DataFrame.\n",
      "Try using .loc[row_indexer,col_indexer] = value instead\n",
      "\n",
      "See the caveats in the documentation: http://pandas.pydata.org/pandas-docs/stable/indexing.html#indexing-view-versus-copy\n",
      "  This is separate from the ipykernel package so we can avoid doing imports until\n"
     ]
    }
   ],
   "source": [
    "song_msno['user_repeated'] = song_msno['msno'].apply(user_repeated_songs).astype(np.int64)\n",
    "song_msno['s_screen_repeat'] = song_msno['source_screen_name'].map(str).apply(source_screen_repeated).astype(np.int64)\n",
    "song_msno['s_type_repeat'] = song_msno['source_type'].map(str).apply(source_type_repeated).astype(np.int64)\n",
    "\n",
    "train['user_repeated'] = train['msno'].apply(user_repeated_songs).astype(np.int64)\n",
    "train['s_screen_repeat'] = train['source_screen_name'].map(str).apply(source_screen_repeated).astype(np.int64)\n",
    "train['s_type_repeat'] = train['source_type'].map(str).apply(source_type_repeated).astype(np.int64)"
   ]
  },
  {
   "cell_type": "code",
   "execution_count": 54,
   "metadata": {
    "collapsed": true
   },
   "outputs": [],
   "source": [
    "input_sizes = {\n",
    "    'msno': max(train.msno.max(), song_msno.msno.max()) +1,\n",
    "    'user_repeated': train.user_repeated.max() +1,\n",
    "    's_screen_repeat': train.s_screen_repeat.max() +1,\n",
    "    's_type_repeat': train.s_type_repeat.max() +1,\n",
    "    'membership_days': max(train.membership_days.max(), song_msno.membership_days.max()) +1,\n",
    "}"
   ]
  },
  {
   "cell_type": "code",
   "execution_count": 78,
   "metadata": {},
   "outputs": [
    {
     "name": "stdout",
     "output_type": "stream",
     "text": [
      "Empty DataFrame\n",
      "Columns: [msno, song_id, source_system_tab, source_screen_name, source_type, target, city, registered_via, membership_days, user_repeated, s_screen_repeat, s_type_repeat]\n",
      "Index: []\n"
     ]
    }
   ],
   "source": [
    "train['membership_days'] = train['membership_days'].apply(lambda x: 0 if x < 0 else x)"
   ]
  },
  {
   "cell_type": "code",
   "execution_count": 55,
   "metadata": {
    "collapsed": true
   },
   "outputs": [],
   "source": [
    "user_input = Input(shape = (1, ))\n",
    "user_repeated_input = Input(shape = (1, ))\n",
    "s_screen_repeat_input = Input(shape = (1, ))\n",
    "s_type_repeat_input = Input(shape = (1, ))\n",
    "membership_days_input = Input(shape = (1, ))"
   ]
  },
  {
   "cell_type": "code",
   "execution_count": 79,
   "metadata": {},
   "outputs": [],
   "source": [
    "user_emb = Flatten()(Embedding(output_dim = user_embedding_size, input_dim=input_sizes['msno'], embeddings_regularizer=l2(1e-4), embeddings_initializer='glorot_uniform')(user_input))\n",
    "user_repeated_emb = Flatten()(Embedding(output_dim = other_embedding_size, input_dim=input_sizes['user_repeated'], embeddings_initializer='glorot_uniform')(user_repeated_input))\n",
    "s_screen_repeat_emb = Flatten()(Embedding(output_dim = source_embedding_size, input_dim=input_sizes['s_screen_repeat'], embeddings_initializer='glorot_uniform')(s_screen_repeat_input))\n",
    "s_type_repeat_emb = Flatten()(Embedding(output_dim = source_embedding_size, input_dim=input_sizes['s_type_repeat'], embeddings_initializer='glorot_uniform')(s_type_repeat_input))\n",
    "membership_days_emb = Flatten()(Embedding(output_dim = member_embedding_size, input_dim=input_sizes['membership_days'], embeddings_initializer='glorot_uniform')(membership_days_input))"
   ]
  },
  {
   "cell_type": "code",
   "execution_count": 80,
   "metadata": {},
   "outputs": [],
   "source": [
    "embedding_layer = Concatenate(axis=-1)([user_emb, user_repeated_emb, s_screen_repeat_emb, s_type_repeat_emb, membership_days_emb])\n",
    "embedding_layer = keras.layers.Dropout(0.5)(Dense(extra_dense, activation = 'relu', kernel_initializer = 'glorot_normal')(embedding_layer))\n",
    "prediction = Dense(1, activation='sigmoid')(embedding_layer)"
   ]
  },
  {
   "cell_type": "code",
   "execution_count": 81,
   "metadata": {},
   "outputs": [],
   "source": [
    "model = keras.models.Model(inputs=[user_input, user_repeated_input, s_screen_repeat_input, s_type_repeat_input, membership_days_input],\n",
    "                           outputs = [prediction])\n",
    "#model.summary()\n",
    "model.compile(optimizer=keras.optimizers.Adam(lr=0.001), loss='binary_crossentropy', metrics=['accuracy'])"
   ]
  },
  {
   "cell_type": "code",
   "execution_count": null,
   "metadata": {},
   "outputs": [
    {
     "name": "stdout",
     "output_type": "stream",
     "text": [
      "Train on 5901934 samples, validate on 1475484 samples\n",
      "Epoch 1/100\n",
      "3407872/5901934 [================>.............] - ETA: 16s - loss: 0.6306 - acc: 0.6508 E"
     ]
    }
   ],
   "source": [
    "early_stopping = EarlyStopping(monitor='val_acc', patience = 5)\n",
    "model_checkpoint = ModelCheckpoint(save_path, save_best_only = True, save_weights_only=False)\n",
    "\n",
    "model.fit([train.msno, train.user_repeated,  train.s_screen_repeat, train.s_type_repeat, train.membership_days],\n",
    "          [train.target], epochs = num_epochs, batch_size = batch_size, verbose=1,\n",
    "          validation_split=0.2, validation_data=None, shuffle=True,\n",
    "          callbacks = [early_stopping, model_checkpoint])\n",
    "\n",
    "model.save(save_path)"
   ]
  },
  {
   "cell_type": "code",
   "execution_count": null,
   "metadata": {
    "collapsed": true
   },
   "outputs": [],
   "source": [
    "predicted = model.predict([song_msno.msno, song_msno.user_repeated, song_msno.s_screen_repeat, song_msno.s_type_repeat, song_msno.membership_days], batch_size=batch_size, verbose=2)\n",
    "new_test = pd.DataFrame({'id': song_msno.id, 'target': predicted.ravel()})\n",
    "new_test.to_csv('../Test/submission_only_user_var2.csv', index=False)"
   ]
  }
 ],
 "metadata": {
  "kernelspec": {
   "display_name": "Python 2",
   "language": "python",
   "name": "python2"
  },
  "language_info": {
   "codemirror_mode": {
    "name": "ipython",
    "version": 2
   },
   "file_extension": ".py",
   "mimetype": "text/x-python",
   "name": "python",
   "nbconvert_exporter": "python",
   "pygments_lexer": "ipython2",
   "version": "2.7.13"
  }
 },
 "nbformat": 4,
 "nbformat_minor": 2
}
