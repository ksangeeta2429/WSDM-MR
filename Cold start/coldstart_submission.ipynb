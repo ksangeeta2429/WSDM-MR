{
 "cells": [
  {
   "cell_type": "code",
   "execution_count": 1,
   "metadata": {
    "collapsed": true
   },
   "outputs": [],
   "source": [
    "import progressbar\n",
    "import pandas as pd"
   ]
  },
  {
   "cell_type": "code",
   "execution_count": 2,
   "metadata": {},
   "outputs": [],
   "source": [
    "pravar = pd.read_csv('../Test/submission.csv')\n",
    "piyush = pd.read_csv('../Test/submission_lysto_model_no_pre_train_embeds_md_counts_v1_epochs_50.h5_submission.csv')\n",
    "cstart = pd.read_csv('../Test/cold_start_pred_2.csv')"
   ]
  },
  {
   "cell_type": "code",
   "execution_count": 3,
   "metadata": {
    "collapsed": true
   },
   "outputs": [],
   "source": [
    "subset = piyush[piyush.id.isin(cstart.id)]\n",
    "subset = subset.merge(pravar, on='id', how='left')\n",
    "subset = subset.merge(cstart, on='id', how='left')\n",
    "subset['target'] = (subset['target_x'] + subset['target_y'] + subset.target)/3"
   ]
  },
  {
   "cell_type": "code",
   "execution_count": 4,
   "metadata": {},
   "outputs": [
    {
     "name": "stderr",
     "output_type": "stream",
     "text": [
      "100% |########################################################################|\n"
     ]
    }
   ],
   "source": [
    "bar = progressbar.ProgressBar()\n",
    "subset_ids = set(cstart.id.unique())\n",
    "for rownum in bar(range(len(piyush))):\n",
    "    id_ = piyush.iloc[rownum]['id']\n",
    "    if id_ in subset_ids:\n",
    "        piyush.set_value(rownum, 'target', subset[subset.id == id_].target)"
   ]
  },
  {
   "cell_type": "code",
   "execution_count": 5,
   "metadata": {
    "collapsed": true
   },
   "outputs": [],
   "source": [
    "headers = ['id', 'target']\n",
    "piyush.to_csv('../Test/submission_naive_pi.csv', index=False, header=headers)"
   ]
  }
 ],
 "metadata": {
  "kernelspec": {
   "display_name": "Python 2",
   "language": "python",
   "name": "python2"
  },
  "language_info": {
   "codemirror_mode": {
    "name": "ipython",
    "version": 2
   },
   "file_extension": ".py",
   "mimetype": "text/x-python",
   "name": "python",
   "nbconvert_exporter": "python",
   "pygments_lexer": "ipython2",
   "version": "2.7.13"
  }
 },
 "nbformat": 4,
 "nbformat_minor": 2
}
