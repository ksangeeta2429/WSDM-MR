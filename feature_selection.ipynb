{
 "cells": [
  {
   "cell_type": "code",
   "execution_count": 1,
   "metadata": {
    "collapsed": true
   },
   "outputs": [],
   "source": [
    "import pandas as pd\n",
    "import numpy as np\n",
    "from tqdm import tqdm\n",
    "from sklearn.naive_bayes import MultinomialNB\n",
    "from sklearn.preprocessing import LabelEncoder\n",
    "from sklearn.metrics import roc_auc_score\n",
    "from sklearn.model_selection import train_test_split\n",
    "import progressbar\n",
    "from sklearn.ensemble import ExtraTreesClassifier\n",
    "from sklearn.feature_selection import SelectFromModel\n",
    "from sklearn.svm import LinearSVC"
   ]
  },
  {
   "cell_type": "code",
   "execution_count": 2,
   "metadata": {
    "collapsed": true
   },
   "outputs": [],
   "source": [
    "train = pd.read_csv('../Data/train.csv')\n",
    "test = pd.read_csv('../Data/test.csv')\n",
    "songs = pd.read_csv('../Data/songs.csv').astype(str)"
   ]
  },
  {
   "cell_type": "code",
   "execution_count": 3,
   "metadata": {},
   "outputs": [
    {
     "name": "stderr",
     "output_type": "stream",
     "text": [
      "100%|██████████| 3/3 [00:44<00:00, 14.47s/it]\n"
     ]
    }
   ],
   "source": [
    "cols = ['source_system_tab', 'source_screen_name', 'source_type']\n",
    "\n",
    "for col in tqdm(cols):\n",
    "    if train[col].dtype == 'object':\n",
    "        train[col] = train[col].apply(str)\n",
    "        test[col] = test[col].apply(str)\n",
    "\n",
    "        le = LabelEncoder()\n",
    "        train_vals = list(train[col].unique())\n",
    "        test_vals = list(test[col].unique())\n",
    "        le.fit(train_vals + test_vals)\n",
    "        train[col] = le.transform(train[col])\n",
    "        test[col] = le.transform(test[col])"
   ]
  },
  {
   "cell_type": "code",
   "execution_count": 4,
   "metadata": {
    "collapsed": true
   },
   "outputs": [],
   "source": [
    "train = train.merge(songs, on='song_id', how='left')\n",
    "test = test.merge(songs, on='song_id', how='left')"
   ]
  },
  {
   "cell_type": "code",
   "execution_count": 5,
   "metadata": {
    "collapsed": true
   },
   "outputs": [],
   "source": [
    "def binning(x):\n",
    "    if x == 0:\n",
    "        return 0\n",
    "    elif x <= 100:\n",
    "        return 1\n",
    "    elif x <= 500:\n",
    "        return 2\n",
    "    elif x <= 1000:\n",
    "        return 3\n",
    "    elif x <= 1500:\n",
    "        return 4\n",
    "    return 5"
   ]
  },
  {
   "cell_type": "code",
   "execution_count": 6,
   "metadata": {
    "collapsed": true
   },
   "outputs": [],
   "source": [
    "repeated_songs_dict = train[train.target == 1].groupby(['song_id'])['target'].count().to_dict()\n",
    "def repeated_songs(x):\n",
    "    try:\n",
    "        count = repeated_songs_dict[x]\n",
    "        return count\n",
    "    except KeyError:\n",
    "        return 0\n",
    "\n",
    "#has anyone listened to the artist again?\n",
    "repeated_artists_dict = train[train.target == 1].groupby(['artist_name'])['target'].count().to_dict()\n",
    "def repeated_artists(x):\n",
    "    try:\n",
    "        count = repeated_artists_dict[x]\n",
    "        return count\n",
    "    except KeyError:\n",
    "        return 0\n",
    "    \n",
    "#how frequently have people repeatedly listened to the language\n",
    "repeated_lang_dict = train[train.target == 1].groupby(['language'])['target'].count().to_dict()\n",
    "def repeated_lang(x):\n",
    "    try:\n",
    "        count = repeated_lang_dict[x]\n",
    "        return count\n",
    "    except KeyError:\n",
    "        return 0 \n",
    "    \n",
    "# number of times an artist has been played \n",
    "_dict_count_artist_played_train = {k: v for k, v in train['artist_name'].value_counts().iteritems()}\n",
    "def count_artist_played(x):\n",
    "    try:\n",
    "        return _dict_count_artist_played_train[x]\n",
    "    except KeyError:\n",
    "        return 0\n",
    "        \n",
    "# number of times a song has been played\n",
    "_dict_count_song_played_train = {k: v for k, v in train['song_id'].value_counts().iteritems()}\n",
    "def count_song_played(x):\n",
    "    try:\n",
    "        return _dict_count_song_played_train[x]\n",
    "    except KeyError:\n",
    "        return 0"
   ]
  },
  {
   "cell_type": "code",
   "execution_count": 7,
   "metadata": {
    "collapsed": true
   },
   "outputs": [],
   "source": [
    "train['repeated_song'] = train['song_id'].map(str).apply(repeated_songs).astype(np.int32)\n",
    "train['count_artist_played'] = train['artist_name'].map(str).apply(count_artist_played).astype(np.int64)\n",
    "train['count_song_played'] = train['song_id'].map(str).apply(count_song_played).astype(np.int64)\n",
    "train['repeated_artist'] = train['artist_name'].map(str).apply(repeated_artists).astype(np.int32)\n",
    "train['repeated_lang'] = train['language'].map(str).apply(repeated_lang).astype(np.int32)"
   ]
  },
  {
   "cell_type": "code",
   "execution_count": 8,
   "metadata": {
    "collapsed": true
   },
   "outputs": [],
   "source": [
    "repeated_dict = train[train.target == 1].groupby(['msno'])['target'].count().to_dict()\n",
    "def user_repeated_songs(x):\n",
    "    try:\n",
    "        count = repeated_dict[x]\n",
    "        return count\n",
    "    except KeyError:\n",
    "        return 0\n",
    "    \n",
    "source_system_dict = train[train.target == 1].groupby(['source_system_tab'])['target'].count().to_dict()\n",
    "def source_system_repeated(x):\n",
    "    try:\n",
    "        count = source_system_dict[x]\n",
    "        return binning(count)\n",
    "    except KeyError:\n",
    "        return 0    \n",
    "\n",
    "# number of times source_screen_name has contributed to target=1\n",
    "source_screen_dict = train[train.target == 1].groupby(['source_screen_name'])['target'].count().to_dict()\n",
    "def source_screen_repeated(x):\n",
    "    try:\n",
    "        count = source_screen_dict[x]\n",
    "        return binning(count)\n",
    "    except KeyError:\n",
    "        return 0\n",
    "\n",
    "# number of times source_type has contributed to target=1\n",
    "source_type_dict = train[train.target == 1].groupby(['source_type'])['target'].count().to_dict()\n",
    "def source_type_repeated(x):\n",
    "    try:\n",
    "        count = source_type_dict[x]\n",
    "        return binning(count)\n",
    "    except KeyError:\n",
    "        return 0"
   ]
  },
  {
   "cell_type": "code",
   "execution_count": 9,
   "metadata": {
    "collapsed": true
   },
   "outputs": [],
   "source": [
    "train['user_repeated'] = train['msno'].map(str).apply(user_repeated_songs).astype(np.int32)\n",
    "train['s_system_repeat'] = train['source_system_tab'].map(str).apply(source_system_repeated).astype(np.int32)\n",
    "train['s_screen_repeat'] = train['source_screen_name'].map(str).apply(source_screen_repeated).astype(np.int32)\n",
    "train['s_type_repeat'] = train['source_type'].map(str).apply(source_type_repeated).astype(np.int32)"
   ]
  },
  {
   "cell_type": "code",
   "execution_count": 10,
   "metadata": {
    "collapsed": true
   },
   "outputs": [],
   "source": [
    "def genre_id_count(x):\n",
    "    if x == 'no_genre_id':\n",
    "        return 0\n",
    "    else:\n",
    "        return x.count('|') + 1\n",
    "\n",
    "def lyricist_count(x):\n",
    "    if x == 'no_lyricist':\n",
    "        return 0\n",
    "    else:\n",
    "        return sum(map(x.count, ['|', '/', '\\\\', ';'])) + 1\n",
    "\n",
    "def composer_count(x):\n",
    "    if x == 'no_composer':\n",
    "        return 0\n",
    "    else:\n",
    "        return sum(map(x.count, ['|', '/', '\\\\', ';'])) + 1\n",
    "\n",
    "def artist_count(x):\n",
    "    if x == 'no_artist':\n",
    "        return 0\n",
    "    else:\n",
    "        return x.count('and') + x.count(',') + x.count('feat') + x.count('&')\n",
    "    \n",
    "# is song language 17 or 45. \n",
    "def song_lang_boolean(x):\n",
    "    if '17.0' in str(x) or '45.0' in str(x):\n",
    "        return 1\n",
    "    return 0"
   ]
  },
  {
   "cell_type": "code",
   "execution_count": 11,
   "metadata": {
    "collapsed": true
   },
   "outputs": [],
   "source": [
    "train['genre_ids'].fillna('no_genre_id',inplace=True)\n",
    "train['genre_ids_count'] = train['genre_ids'].apply(genre_id_count).astype(np.int8)\n",
    "\n",
    "train['lyricist'].fillna('no_lyricist',inplace=True)\n",
    "train['lyricists_count'] = train['lyricist'].apply(lyricist_count).astype(np.int8)\n",
    "\n",
    "train['composer'].fillna('no_composer',inplace=True)\n",
    "train['composer_count'] = train['composer'].apply(composer_count).astype(np.int8)\n",
    "\n",
    "train['artist_name'].fillna('no_artist',inplace=True)\n",
    "train['artist_count'] = train['artist_name'].apply(artist_count).astype(np.int8)\n",
    "train['song_lang_boolean'] = train['language'].apply(song_lang_boolean).astype(np.int8)"
   ]
  },
  {
   "cell_type": "code",
   "execution_count": 12,
   "metadata": {},
   "outputs": [
    {
     "name": "stdout",
     "output_type": "stream",
     "text": [
      "Index([u'msno', u'song_id', u'source_system_tab', u'source_screen_name',\n",
      "       u'source_type', u'target', u'song_length', u'genre_ids', u'artist_name',\n",
      "       u'composer', u'lyricist', u'language', u'repeated_song',\n",
      "       u'count_artist_played', u'count_song_played', u'repeated_artist',\n",
      "       u'repeated_lang', u'user_repeated', u's_system_repeat',\n",
      "       u's_screen_repeat', u's_type_repeat', u'genre_ids_count',\n",
      "       u'lyricists_count', u'composer_count', u'artist_count',\n",
      "       u'song_lang_boolean'],\n",
      "      dtype='object')\n"
     ]
    }
   ],
   "source": [
    "print train.columns"
   ]
  },
  {
   "cell_type": "code",
   "execution_count": 15,
   "metadata": {
    "collapsed": true
   },
   "outputs": [],
   "source": [
    "X = np.array(train.drop(['target', 'msno', 'song_id', 'artist_name', 'genre_ids', 'composer', 'lyricist', 'language', 'song_length'], axis=1), dtype=np.int32)"
   ]
  },
  {
   "cell_type": "code",
   "execution_count": 16,
   "metadata": {},
   "outputs": [
    {
     "data": {
      "text/plain": [
       "array([ 0.03058996,  0.03644548,  0.05053757,  0.10365024,  0.05402262,\n",
       "        0.08960584,  0.05357351,  0.00835636,  0.54474298,  0.        ,\n",
       "        0.        ,  0.        ,  0.00321956,  0.00813599,  0.0135738 ,\n",
       "        0.00253208,  0.00101401])"
      ]
     },
     "execution_count": 16,
     "metadata": {},
     "output_type": "execute_result"
    }
   ],
   "source": [
    "clf = ExtraTreesClassifier()\n",
    "clf = clf.fit(X, train.target)\n",
    "clf.feature_importances_"
   ]
  }
 ],
 "metadata": {
  "kernelspec": {
   "display_name": "Python 2",
   "language": "python",
   "name": "python2"
  },
  "language_info": {
   "codemirror_mode": {
    "name": "ipython",
    "version": 2
   },
   "file_extension": ".py",
   "mimetype": "text/x-python",
   "name": "python",
   "nbconvert_exporter": "python",
   "pygments_lexer": "ipython2",
   "version": "2.7.13"
  }
 },
 "nbformat": 4,
 "nbformat_minor": 2
}
