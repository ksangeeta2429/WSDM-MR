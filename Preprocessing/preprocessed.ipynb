{
 "cells": [
  {
   "cell_type": "code",
   "execution_count": 1,
   "metadata": {
    "collapsed": true
   },
   "outputs": [],
   "source": [
    "import numpy as np\n",
    "import pandas as pd\n",
    "import re\n",
    "import matplotlib.pyplot as plt"
   ]
  },
  {
   "cell_type": "code",
   "execution_count": 2,
   "metadata": {
    "collapsed": true
   },
   "outputs": [],
   "source": [
    "train = pd.read_csv('../Data/train.csv')\n",
    "songs = pd.read_csv('../Data/songs.csv')\n",
    "test = pd.read_csv('../Data/test.csv')"
   ]
  },
  {
   "cell_type": "code",
   "execution_count": 3,
   "metadata": {
    "collapsed": true
   },
   "outputs": [],
   "source": [
    "songs_in_train_and_test = np.intersect1d(train['song_id'].unique(), test['song_id'].unique())\n",
    "shortlisted = np.union1d(train['song_id'].unique(), test['song_id'].unique())\n",
    "#print shortlisted"
   ]
  },
  {
   "cell_type": "code",
   "execution_count": 4,
   "metadata": {
    "collapsed": true
   },
   "outputs": [],
   "source": [
    "df = pd.DataFrame(songs)\n",
    "new_songs = df.loc[df['song_id'].isin(shortlisted)]\n",
    "#print len(songs) #2296320\n",
    "#print len(new_songs) #384623"
   ]
  },
  {
   "cell_type": "code",
   "execution_count": null,
   "metadata": {
    "collapsed": true
   },
   "outputs": [],
   "source": [
    "new_songs.to_csv('shortlisted_song.csv', index=False)"
   ]
  },
  {
   "cell_type": "code",
   "execution_count": 5,
   "metadata": {
    "collapsed": true
   },
   "outputs": [],
   "source": [
    "def split_str(string):\n",
    "    multiple = re.split('/+|\\|', string)\n",
    "    return multiple\n",
    "\n",
    "def brack_entry(string):\n",
    "    a_1 = string[string.find(\"(\")+1:string.find(\")\")]\n",
    "    a_2 = string[0:string.find(\"(\")-1]\n",
    "    return a_1, a_2"
   ]
  },
  {
   "cell_type": "code",
   "execution_count": null,
   "metadata": {
    "collapsed": true
   },
   "outputs": [],
   "source": [
    "headers = ['song_id', 'artist_name']\n",
    "df_new = pd.DataFrame(columns=headers)\n",
    "artists = new_songs['artist_name']\n",
    "composers = new_songs['composer']\n",
    "lyricists = new_songs['lyricist']\n",
    "\n",
    "for row_index, row in new_songs.iterrows():\n",
    "    artist = split_str(row['artist_name'])\n",
    "    if len(artist) != 0:\n",
    "        for i in range(len(artist)):\n",
    "            df_new.loc[df_new.shape[0]] = [row['song_id'], artist[i]]\n",
    "    else:\n",
    "        df_new.loc[df_new.shape[0]] = [row['song_id'], row['artist_name']]"
   ]
  },
  {
   "cell_type": "code",
   "execution_count": null,
   "metadata": {
    "collapsed": true
   },
   "outputs": [],
   "source": [
    "for row_index, row in df_new.iterrows():\n",
    "    string = row['artist_name']\n",
    "    if (string.find(\"(\") != -1):\n",
    "        a1, a2 = brack_entry(row['artist_name'])\n",
    "        df_new.append(pd.Series([row['song_id'], a1], headers), ignore_index=True)\n",
    "        df_new.append(pd.Series([row['song_id'], a2], headers), ignore_index=True)\n",
    "        df.drop([row_index])"
   ]
  },
  {
   "cell_type": "code",
   "execution_count": null,
   "metadata": {
    "collapsed": true
   },
   "outputs": [],
   "source": [
    "df_new.to_csv('artists.csv', index=False)"
   ]
  }
 ],
 "metadata": {
  "kernelspec": {
   "display_name": "Python 2",
   "language": "python",
   "name": "python2"
  },
  "language_info": {
   "codemirror_mode": {
    "name": "ipython",
    "version": 2
   },
   "file_extension": ".py",
   "mimetype": "text/x-python",
   "name": "python",
   "nbconvert_exporter": "python",
   "pygments_lexer": "ipython2",
   "version": "2.7.13"
  }
 },
 "nbformat": 4,
 "nbformat_minor": 2
}
